{
 "cells": [
  {
   "cell_type": "code",
   "execution_count": 13,
   "metadata": {},
   "outputs": [],
   "source": [
    "import pandas as pd\n",
    "import regex as re\n",
    "\n",
    "import warnings\n",
    "warnings.filterwarnings('ignore')\n",
    "\n",
    "pd.set_option('display.max_columns',None)"
   ]
  },
  {
   "cell_type": "code",
   "execution_count": 14,
   "metadata": {},
   "outputs": [],
   "source": [
    "#Descargo los datos\n",
    "\n",
    "old = pd.read_csv('../data/csv_inicial/old_HDD.csv')"
   ]
  },
  {
   "cell_type": "markdown",
   "metadata": {},
   "source": [
    "Parte 1\n",
    "\n",
    "Estudiar el dataframe"
   ]
  },
  {
   "cell_type": "code",
   "execution_count": 15,
   "metadata": {},
   "outputs": [
    {
     "data": {
      "text/html": [
       "<div>\n",
       "<style scoped>\n",
       "    .dataframe tbody tr th:only-of-type {\n",
       "        vertical-align: middle;\n",
       "    }\n",
       "\n",
       "    .dataframe tbody tr th {\n",
       "        vertical-align: top;\n",
       "    }\n",
       "\n",
       "    .dataframe thead th {\n",
       "        text-align: right;\n",
       "    }\n",
       "</style>\n",
       "<table border=\"1\" class=\"dataframe\">\n",
       "  <thead>\n",
       "    <tr style=\"text-align: right;\">\n",
       "      <th></th>\n",
       "      <th>count</th>\n",
       "      <th>mean</th>\n",
       "      <th>std</th>\n",
       "      <th>min</th>\n",
       "      <th>25%</th>\n",
       "      <th>50%</th>\n",
       "      <th>75%</th>\n",
       "      <th>max</th>\n",
       "    </tr>\n",
       "  </thead>\n",
       "  <tbody>\n",
       "    <tr>\n",
       "      <th>release_year</th>\n",
       "      <td>1000.0</td>\n",
       "      <td>2006.000</td>\n",
       "      <td>0.000000</td>\n",
       "      <td>2006.0</td>\n",
       "      <td>2006.0</td>\n",
       "      <td>2006.0</td>\n",
       "      <td>2006.0</td>\n",
       "      <td>2006.0</td>\n",
       "    </tr>\n",
       "    <tr>\n",
       "      <th>category_id</th>\n",
       "      <td>1000.0</td>\n",
       "      <td>8.355</td>\n",
       "      <td>4.726872</td>\n",
       "      <td>1.0</td>\n",
       "      <td>4.0</td>\n",
       "      <td>8.0</td>\n",
       "      <td>13.0</td>\n",
       "      <td>16.0</td>\n",
       "    </tr>\n",
       "  </tbody>\n",
       "</table>\n",
       "</div>"
      ],
      "text/plain": [
       "               count      mean       std     min     25%     50%     75%  \\\n",
       "release_year  1000.0  2006.000  0.000000  2006.0  2006.0  2006.0  2006.0   \n",
       "category_id   1000.0     8.355  4.726872     1.0     4.0     8.0    13.0   \n",
       "\n",
       "                 max  \n",
       "release_year  2006.0  \n",
       "category_id     16.0  "
      ]
     },
     "execution_count": 15,
     "metadata": {},
     "output_type": "execute_result"
    }
   ],
   "source": [
    "old.describe().T"
   ]
  },
  {
   "cell_type": "code",
   "execution_count": 16,
   "metadata": {},
   "outputs": [
    {
     "name": "stdout",
     "output_type": "stream",
     "text": [
      "<class 'pandas.core.frame.DataFrame'>\n",
      "RangeIndex: 1000 entries, 0 to 999\n",
      "Data columns (total 5 columns):\n",
      " #   Column        Non-Null Count  Dtype \n",
      "---  ------        --------------  ----- \n",
      " 0   first_name    1000 non-null   object\n",
      " 1   last_name     1000 non-null   object\n",
      " 2   title         1000 non-null   object\n",
      " 3   release_year  1000 non-null   int64 \n",
      " 4   category_id   1000 non-null   int64 \n",
      "dtypes: int64(2), object(3)\n",
      "memory usage: 39.2+ KB\n"
     ]
    }
   ],
   "source": [
    "old.info()"
   ]
  },
  {
   "cell_type": "markdown",
   "metadata": {},
   "source": [
    "Parte 2 \n",
    "\n",
    "Investigo y limpio el dataframe"
   ]
  },
  {
   "cell_type": "code",
   "execution_count": 17,
   "metadata": {},
   "outputs": [
    {
     "data": {
      "text/html": [
       "<div>\n",
       "<style scoped>\n",
       "    .dataframe tbody tr th:only-of-type {\n",
       "        vertical-align: middle;\n",
       "    }\n",
       "\n",
       "    .dataframe tbody tr th {\n",
       "        vertical-align: top;\n",
       "    }\n",
       "\n",
       "    .dataframe thead th {\n",
       "        text-align: right;\n",
       "    }\n",
       "</style>\n",
       "<table border=\"1\" class=\"dataframe\">\n",
       "  <thead>\n",
       "    <tr style=\"text-align: right;\">\n",
       "      <th></th>\n",
       "      <th>first_name</th>\n",
       "      <th>last_name</th>\n",
       "      <th>title</th>\n",
       "      <th>release_year</th>\n",
       "      <th>category_id</th>\n",
       "    </tr>\n",
       "  </thead>\n",
       "  <tbody>\n",
       "    <tr>\n",
       "      <th>0</th>\n",
       "      <td>PENELOPE</td>\n",
       "      <td>GUINESS</td>\n",
       "      <td>ACADEMY DINOSAUR</td>\n",
       "      <td>2006</td>\n",
       "      <td>6</td>\n",
       "    </tr>\n",
       "    <tr>\n",
       "      <th>1</th>\n",
       "      <td>PENELOPE</td>\n",
       "      <td>GUINESS</td>\n",
       "      <td>ANACONDA CONFESSIONS</td>\n",
       "      <td>2006</td>\n",
       "      <td>2</td>\n",
       "    </tr>\n",
       "    <tr>\n",
       "      <th>2</th>\n",
       "      <td>PENELOPE</td>\n",
       "      <td>GUINESS</td>\n",
       "      <td>ANGELS LIFE</td>\n",
       "      <td>2006</td>\n",
       "      <td>13</td>\n",
       "    </tr>\n",
       "    <tr>\n",
       "      <th>3</th>\n",
       "      <td>PENELOPE</td>\n",
       "      <td>GUINESS</td>\n",
       "      <td>BULWORTH COMMANDMENTS</td>\n",
       "      <td>2006</td>\n",
       "      <td>10</td>\n",
       "    </tr>\n",
       "    <tr>\n",
       "      <th>4</th>\n",
       "      <td>PENELOPE</td>\n",
       "      <td>GUINESS</td>\n",
       "      <td>CHEAPER CLYDE</td>\n",
       "      <td>2006</td>\n",
       "      <td>14</td>\n",
       "    </tr>\n",
       "    <tr>\n",
       "      <th>...</th>\n",
       "      <td>...</td>\n",
       "      <td>...</td>\n",
       "      <td>...</td>\n",
       "      <td>...</td>\n",
       "      <td>...</td>\n",
       "    </tr>\n",
       "    <tr>\n",
       "      <th>995</th>\n",
       "      <td>GOLDIE</td>\n",
       "      <td>BRODY</td>\n",
       "      <td>COMANCHEROS ENEMY</td>\n",
       "      <td>2006</td>\n",
       "      <td>3</td>\n",
       "    </tr>\n",
       "    <tr>\n",
       "      <th>996</th>\n",
       "      <td>GOLDIE</td>\n",
       "      <td>BRODY</td>\n",
       "      <td>DAISY MENAGERIE</td>\n",
       "      <td>2006</td>\n",
       "      <td>14</td>\n",
       "    </tr>\n",
       "    <tr>\n",
       "      <th>997</th>\n",
       "      <td>GOLDIE</td>\n",
       "      <td>BRODY</td>\n",
       "      <td>DESERT POSEIDON</td>\n",
       "      <td>2006</td>\n",
       "      <td>11</td>\n",
       "    </tr>\n",
       "    <tr>\n",
       "      <th>998</th>\n",
       "      <td>GOLDIE</td>\n",
       "      <td>BRODY</td>\n",
       "      <td>EVERYONE CRAFT</td>\n",
       "      <td>2006</td>\n",
       "      <td>9</td>\n",
       "    </tr>\n",
       "    <tr>\n",
       "      <th>999</th>\n",
       "      <td>GOLDIE</td>\n",
       "      <td>BRODY</td>\n",
       "      <td>EXORCIST STING</td>\n",
       "      <td>2006</td>\n",
       "      <td>15</td>\n",
       "    </tr>\n",
       "  </tbody>\n",
       "</table>\n",
       "<p>1000 rows × 5 columns</p>\n",
       "</div>"
      ],
      "text/plain": [
       "    first_name last_name                  title  release_year  category_id\n",
       "0     PENELOPE   GUINESS       ACADEMY DINOSAUR          2006            6\n",
       "1     PENELOPE   GUINESS   ANACONDA CONFESSIONS          2006            2\n",
       "2     PENELOPE   GUINESS            ANGELS LIFE          2006           13\n",
       "3     PENELOPE   GUINESS  BULWORTH COMMANDMENTS          2006           10\n",
       "4     PENELOPE   GUINESS          CHEAPER CLYDE          2006           14\n",
       "..         ...       ...                    ...           ...          ...\n",
       "995     GOLDIE     BRODY      COMANCHEROS ENEMY          2006            3\n",
       "996     GOLDIE     BRODY        DAISY MENAGERIE          2006           14\n",
       "997     GOLDIE     BRODY        DESERT POSEIDON          2006           11\n",
       "998     GOLDIE     BRODY         EVERYONE CRAFT          2006            9\n",
       "999     GOLDIE     BRODY         EXORCIST STING          2006           15\n",
       "\n",
       "[1000 rows x 5 columns]"
      ]
     },
     "execution_count": 17,
     "metadata": {},
     "output_type": "execute_result"
    }
   ],
   "source": [
    "old"
   ]
  },
  {
   "cell_type": "code",
   "execution_count": 18,
   "metadata": {},
   "outputs": [
    {
     "data": {
      "text/plain": [
       "Series([], dtype: int64)"
      ]
     },
     "execution_count": 18,
     "metadata": {},
     "output_type": "execute_result"
    }
   ],
   "source": [
    "#Chequeo nulos\n",
    "nan_cols = old.isna().sum()\n",
    "\n",
    "nan_cols[nan_cols>0]"
   ]
  },
  {
   "cell_type": "code",
   "execution_count": 19,
   "metadata": {},
   "outputs": [
    {
     "data": {
      "text/plain": [
       "False"
      ]
     },
     "execution_count": 19,
     "metadata": {},
     "output_type": "execute_result"
    }
   ],
   "source": [
    "duplicadas = old.duplicated().any()\n",
    "duplicadas"
   ]
  },
  {
   "cell_type": "code",
   "execution_count": 20,
   "metadata": {},
   "outputs": [],
   "source": [
    "#Cambio el formato de las columas de nombre apellido y title\n",
    "old['first_name'] = old['first_name'].str.title()\n",
    "old['last_name'] = old['last_name'].str.title()\n",
    "old['title'] = old['title'].str.title()"
   ]
  },
  {
   "cell_type": "code",
   "execution_count": 21,
   "metadata": {},
   "outputs": [],
   "source": [
    "#Voy a hacer un merge con la tabla de actors asi con el id voy a poder reclacionarlas en sql\n",
    "actores = pd.read_csv('../data/csv_limpios/actor.csv')\n"
   ]
  },
  {
   "cell_type": "code",
   "execution_count": 22,
   "metadata": {},
   "outputs": [],
   "source": [
    "old = old.merge(actores, on=['first_name', 'last_name'])\n"
   ]
  },
  {
   "cell_type": "code",
   "execution_count": 23,
   "metadata": {},
   "outputs": [
    {
     "data": {
      "text/html": [
       "<div>\n",
       "<style scoped>\n",
       "    .dataframe tbody tr th:only-of-type {\n",
       "        vertical-align: middle;\n",
       "    }\n",
       "\n",
       "    .dataframe tbody tr th {\n",
       "        vertical-align: top;\n",
       "    }\n",
       "\n",
       "    .dataframe thead th {\n",
       "        text-align: right;\n",
       "    }\n",
       "</style>\n",
       "<table border=\"1\" class=\"dataframe\">\n",
       "  <thead>\n",
       "    <tr style=\"text-align: right;\">\n",
       "      <th></th>\n",
       "      <th>first_name</th>\n",
       "      <th>last_name</th>\n",
       "      <th>title</th>\n",
       "      <th>release_year</th>\n",
       "      <th>category_id</th>\n",
       "      <th>actor_id</th>\n",
       "      <th>last_update</th>\n",
       "    </tr>\n",
       "  </thead>\n",
       "  <tbody>\n",
       "    <tr>\n",
       "      <th>0</th>\n",
       "      <td>Penelope</td>\n",
       "      <td>Guiness</td>\n",
       "      <td>Academy Dinosaur</td>\n",
       "      <td>2006</td>\n",
       "      <td>6</td>\n",
       "      <td>1</td>\n",
       "      <td>2006-02-15 04:34:33</td>\n",
       "    </tr>\n",
       "    <tr>\n",
       "      <th>1</th>\n",
       "      <td>Penelope</td>\n",
       "      <td>Guiness</td>\n",
       "      <td>Anaconda Confessions</td>\n",
       "      <td>2006</td>\n",
       "      <td>2</td>\n",
       "      <td>1</td>\n",
       "      <td>2006-02-15 04:34:33</td>\n",
       "    </tr>\n",
       "    <tr>\n",
       "      <th>2</th>\n",
       "      <td>Penelope</td>\n",
       "      <td>Guiness</td>\n",
       "      <td>Angels Life</td>\n",
       "      <td>2006</td>\n",
       "      <td>13</td>\n",
       "      <td>1</td>\n",
       "      <td>2006-02-15 04:34:33</td>\n",
       "    </tr>\n",
       "    <tr>\n",
       "      <th>3</th>\n",
       "      <td>Penelope</td>\n",
       "      <td>Guiness</td>\n",
       "      <td>Bulworth Commandments</td>\n",
       "      <td>2006</td>\n",
       "      <td>10</td>\n",
       "      <td>1</td>\n",
       "      <td>2006-02-15 04:34:33</td>\n",
       "    </tr>\n",
       "    <tr>\n",
       "      <th>4</th>\n",
       "      <td>Penelope</td>\n",
       "      <td>Guiness</td>\n",
       "      <td>Cheaper Clyde</td>\n",
       "      <td>2006</td>\n",
       "      <td>14</td>\n",
       "      <td>1</td>\n",
       "      <td>2006-02-15 04:34:33</td>\n",
       "    </tr>\n",
       "    <tr>\n",
       "      <th>...</th>\n",
       "      <td>...</td>\n",
       "      <td>...</td>\n",
       "      <td>...</td>\n",
       "      <td>...</td>\n",
       "      <td>...</td>\n",
       "      <td>...</td>\n",
       "      <td>...</td>\n",
       "    </tr>\n",
       "    <tr>\n",
       "      <th>995</th>\n",
       "      <td>Goldie</td>\n",
       "      <td>Brody</td>\n",
       "      <td>Comancheros Enemy</td>\n",
       "      <td>2006</td>\n",
       "      <td>3</td>\n",
       "      <td>39</td>\n",
       "      <td>2006-02-15 04:34:33</td>\n",
       "    </tr>\n",
       "    <tr>\n",
       "      <th>996</th>\n",
       "      <td>Goldie</td>\n",
       "      <td>Brody</td>\n",
       "      <td>Daisy Menagerie</td>\n",
       "      <td>2006</td>\n",
       "      <td>14</td>\n",
       "      <td>39</td>\n",
       "      <td>2006-02-15 04:34:33</td>\n",
       "    </tr>\n",
       "    <tr>\n",
       "      <th>997</th>\n",
       "      <td>Goldie</td>\n",
       "      <td>Brody</td>\n",
       "      <td>Desert Poseidon</td>\n",
       "      <td>2006</td>\n",
       "      <td>11</td>\n",
       "      <td>39</td>\n",
       "      <td>2006-02-15 04:34:33</td>\n",
       "    </tr>\n",
       "    <tr>\n",
       "      <th>998</th>\n",
       "      <td>Goldie</td>\n",
       "      <td>Brody</td>\n",
       "      <td>Everyone Craft</td>\n",
       "      <td>2006</td>\n",
       "      <td>9</td>\n",
       "      <td>39</td>\n",
       "      <td>2006-02-15 04:34:33</td>\n",
       "    </tr>\n",
       "    <tr>\n",
       "      <th>999</th>\n",
       "      <td>Goldie</td>\n",
       "      <td>Brody</td>\n",
       "      <td>Exorcist Sting</td>\n",
       "      <td>2006</td>\n",
       "      <td>15</td>\n",
       "      <td>39</td>\n",
       "      <td>2006-02-15 04:34:33</td>\n",
       "    </tr>\n",
       "  </tbody>\n",
       "</table>\n",
       "<p>1000 rows × 7 columns</p>\n",
       "</div>"
      ],
      "text/plain": [
       "    first_name last_name                  title  release_year  category_id  \\\n",
       "0     Penelope   Guiness       Academy Dinosaur          2006            6   \n",
       "1     Penelope   Guiness   Anaconda Confessions          2006            2   \n",
       "2     Penelope   Guiness            Angels Life          2006           13   \n",
       "3     Penelope   Guiness  Bulworth Commandments          2006           10   \n",
       "4     Penelope   Guiness          Cheaper Clyde          2006           14   \n",
       "..         ...       ...                    ...           ...          ...   \n",
       "995     Goldie     Brody      Comancheros Enemy          2006            3   \n",
       "996     Goldie     Brody        Daisy Menagerie          2006           14   \n",
       "997     Goldie     Brody        Desert Poseidon          2006           11   \n",
       "998     Goldie     Brody         Everyone Craft          2006            9   \n",
       "999     Goldie     Brody         Exorcist Sting          2006           15   \n",
       "\n",
       "     actor_id          last_update  \n",
       "0           1  2006-02-15 04:34:33  \n",
       "1           1  2006-02-15 04:34:33  \n",
       "2           1  2006-02-15 04:34:33  \n",
       "3           1  2006-02-15 04:34:33  \n",
       "4           1  2006-02-15 04:34:33  \n",
       "..        ...                  ...  \n",
       "995        39  2006-02-15 04:34:33  \n",
       "996        39  2006-02-15 04:34:33  \n",
       "997        39  2006-02-15 04:34:33  \n",
       "998        39  2006-02-15 04:34:33  \n",
       "999        39  2006-02-15 04:34:33  \n",
       "\n",
       "[1000 rows x 7 columns]"
      ]
     },
     "execution_count": 23,
     "metadata": {},
     "output_type": "execute_result"
    }
   ],
   "source": [
    "old"
   ]
  },
  {
   "cell_type": "markdown",
   "metadata": {},
   "source": [
    "Parte 3\n",
    "\n",
    "Export dataframe\n",
    "\n"
   ]
  },
  {
   "cell_type": "code",
   "execution_count": 24,
   "metadata": {},
   "outputs": [],
   "source": [
    "old.to_csv('../data/csv_limpios/old.csv', index=False)"
   ]
  }
 ],
 "metadata": {
  "kernelspec": {
   "display_name": "base",
   "language": "python",
   "name": "python3"
  },
  "language_info": {
   "codemirror_mode": {
    "name": "ipython",
    "version": 3
   },
   "file_extension": ".py",
   "mimetype": "text/x-python",
   "name": "python",
   "nbconvert_exporter": "python",
   "pygments_lexer": "ipython3",
   "version": "3.10.9"
  }
 },
 "nbformat": 4,
 "nbformat_minor": 2
}
